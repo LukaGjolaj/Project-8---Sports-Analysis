{
 "cells": [
  {
   "cell_type": "code",
   "execution_count": 5,
   "id": "ea608481-911f-4e33-b401-82796974e9b1",
   "metadata": {},
   "outputs": [],
   "source": [
    "import pandas as pd\n",
    "from nba_api.stats.endpoints import leaguedashplayerstats\n",
    "import time\n",
    "\n",
    "# Define the season you want data for\n",
    "season = '2024-25' \n",
    "season_type = 'Regular Season' \n",
    "\n",
    "\n",
    "try:\n",
    "\n",
    "    player_stats = leaguedashplayerstats.LeagueDashPlayerStats(\n",
    "        season=season,\n",
    "        season_type_all_star=season_type,\n",
    "        per_mode_detailed='Totals' \n",
    "    )\n",
    "\n",
    "\n",
    "    df_player_totals = player_stats.get_data_frames()[0]\n",
    "\n",
    "\n",
    "    relevant_columns = ['PLAYER_NAME', 'TEAM_ABBREVIATION', 'GP', 'MIN'] \n",
    "    \n",
    "    cols_to_show = [col for col in relevant_columns if col in df_player_totals.columns]\n",
    "    df = df_player_totals[cols_to_show]\n",
    "\n",
    "\n",
    "except Exception as e:\n",
    "    print(f\"An error occurred while fetching data: {e}\")\n",
    "    print(\"This could be due to API changes, network issues, or invalid parameters.\")\n",
    "\n"
   ]
  },
  {
   "cell_type": "code",
   "execution_count": 7,
   "id": "cfde9fae-b318-4fce-86b0-39e631fcb285",
   "metadata": {},
   "outputs": [],
   "source": [
    "df.to_csv('../../data/rawdata/PlayerMinutes.csv')"
   ]
  },
  {
   "cell_type": "code",
   "execution_count": null,
   "id": "97d969ca-023a-48ee-b958-6fac06fdb3cc",
   "metadata": {},
   "outputs": [],
   "source": []
  }
 ],
 "metadata": {
  "kernelspec": {
   "display_name": "Python 3.11 (default)",
   "language": "python",
   "name": "python3"
  },
  "language_info": {
   "codemirror_mode": {
    "name": "ipython",
    "version": 3
   },
   "file_extension": ".py",
   "mimetype": "text/x-python",
   "name": "python",
   "nbconvert_exporter": "python",
   "pygments_lexer": "ipython3",
   "version": "3.11.11"
  }
 },
 "nbformat": 4,
 "nbformat_minor": 5
}
